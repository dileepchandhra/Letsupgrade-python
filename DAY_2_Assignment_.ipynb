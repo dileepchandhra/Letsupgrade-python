{
  "nbformat": 4,
  "nbformat_minor": 0,
  "metadata": {
    "colab": {
      "name": "DAY 2 Assignment .ipynb",
      "provenance": [],
      "authorship_tag": "ABX9TyNPKn8FeYHGC2G5nAUUza94",
      "include_colab_link": true
    },
    "kernelspec": {
      "name": "python3",
      "display_name": "Python 3"
    }
  },
  "cells": [
    {
      "cell_type": "markdown",
      "metadata": {
        "id": "view-in-github",
        "colab_type": "text"
      },
      "source": [
        "<a href=\"https://colab.research.google.com/github/dileepchandhra/Letsupgrade-python/blob/master/DAY_2_Assignment_.ipynb\" target=\"_parent\"><img src=\"https://colab.research.google.com/assets/colab-badge.svg\" alt=\"Open In Colab\"/></a>"
      ]
    },
    {
      "cell_type": "markdown",
      "metadata": {
        "id": "tAzA-07YIdvT",
        "colab_type": "text"
      },
      "source": [
        "List and default functions"
      ]
    },
    {
      "cell_type": "code",
      "metadata": {
        "id": "3DggWdIgHrla",
        "colab_type": "code",
        "colab": {
          "base_uri": "https://localhost:8080/",
          "height": 35
        },
        "outputId": "e2a07343-1e7e-47b0-8144-defe8d3e5c5b"
      },
      "source": [
        "list = [\"India\",1947,\"ISRO\",\"Peltier\"]\n",
        "list.append(2020)\n",
        "list"
      ],
      "execution_count": 11,
      "outputs": [
        {
          "output_type": "execute_result",
          "data": {
            "text/plain": [
              "['India', 1947, 'ISRO', 'Peltier', 2020]"
            ]
          },
          "metadata": {
            "tags": []
          },
          "execution_count": 11
        }
      ]
    },
    {
      "cell_type": "code",
      "metadata": {
        "id": "KrFhbAlNI76v",
        "colab_type": "code",
        "colab": {
          "base_uri": "https://localhost:8080/",
          "height": 35
        },
        "outputId": "fdf16182-791b-4fd7-f138-c5052ac6f9ff"
      },
      "source": [
        "list.index(1947)"
      ],
      "execution_count": 12,
      "outputs": [
        {
          "output_type": "execute_result",
          "data": {
            "text/plain": [
              "1"
            ]
          },
          "metadata": {
            "tags": []
          },
          "execution_count": 12
        }
      ]
    },
    {
      "cell_type": "code",
      "metadata": {
        "id": "fFPjuzOfJ3P_",
        "colab_type": "code",
        "colab": {
          "base_uri": "https://localhost:8080/",
          "height": 35
        },
        "outputId": "6c19005d-2d6d-448a-b40d-df4eddc2f353"
      },
      "source": [
        "list.insert(2,2020)\n",
        "list"
      ],
      "execution_count": 13,
      "outputs": [
        {
          "output_type": "execute_result",
          "data": {
            "text/plain": [
              "['India', 1947, 2020, 'ISRO', 'Peltier', 2020]"
            ]
          },
          "metadata": {
            "tags": []
          },
          "execution_count": 13
        }
      ]
    },
    {
      "cell_type": "code",
      "metadata": {
        "id": "JXOmxDNMKAv7",
        "colab_type": "code",
        "colab": {
          "base_uri": "https://localhost:8080/",
          "height": 35
        },
        "outputId": "70d24a67-6256-4e9f-f7b2-38902e001978"
      },
      "source": [
        "list.count(2020)"
      ],
      "execution_count": 14,
      "outputs": [
        {
          "output_type": "execute_result",
          "data": {
            "text/plain": [
              "2"
            ]
          },
          "metadata": {
            "tags": []
          },
          "execution_count": 14
        }
      ]
    },
    {
      "cell_type": "code",
      "metadata": {
        "id": "iPK1KHafKLLy",
        "colab_type": "code",
        "colab": {
          "base_uri": "https://localhost:8080/",
          "height": 35
        },
        "outputId": "8b72c3bc-2290-4de5-9a42-64503c5fe601"
      },
      "source": [
        "list.remove(\"Peltier\")\n",
        "list"
      ],
      "execution_count": 15,
      "outputs": [
        {
          "output_type": "execute_result",
          "data": {
            "text/plain": [
              "['India', 1947, 2020, 'ISRO', 2020]"
            ]
          },
          "metadata": {
            "tags": []
          },
          "execution_count": 15
        }
      ]
    },
    {
      "cell_type": "markdown",
      "metadata": {
        "id": "NSC9koXXKY33",
        "colab_type": "text"
      },
      "source": [
        "Dictionary and its default functions\n"
      ]
    },
    {
      "cell_type": "code",
      "metadata": {
        "id": "FJ38AOIxKnAN",
        "colab_type": "code",
        "colab": {
          "base_uri": "https://localhost:8080/",
          "height": 35
        },
        "outputId": "bc13a3dd-976e-486d-d8f1-1c91006a802c"
      },
      "source": [
        "dit = {\"Name\" : \"who knows\",7 :36,\"age\":100}\n",
        "type(dit)"
      ],
      "execution_count": 19,
      "outputs": [
        {
          "output_type": "execute_result",
          "data": {
            "text/plain": [
              "dict"
            ]
          },
          "metadata": {
            "tags": []
          },
          "execution_count": 19
        }
      ]
    },
    {
      "cell_type": "code",
      "metadata": {
        "id": "0JEey_yVL86l",
        "colab_type": "code",
        "colab": {
          "base_uri": "https://localhost:8080/",
          "height": 35
        },
        "outputId": "abe7b16b-8134-4f57-a384-a096ffb50abe"
      },
      "source": [
        "dit.get(7)"
      ],
      "execution_count": 20,
      "outputs": [
        {
          "output_type": "execute_result",
          "data": {
            "text/plain": [
              "36"
            ]
          },
          "metadata": {
            "tags": []
          },
          "execution_count": 20
        }
      ]
    },
    {
      "cell_type": "code",
      "metadata": {
        "id": "JAD6XvjNMU9T",
        "colab_type": "code",
        "colab": {
          "base_uri": "https://localhost:8080/",
          "height": 35
        },
        "outputId": "840cf793-e461-42bb-f88e-9d97f08c9e22"
      },
      "source": [
        "dit.keys()"
      ],
      "execution_count": 22,
      "outputs": [
        {
          "output_type": "execute_result",
          "data": {
            "text/plain": [
              "dict_keys(['Name', 7, 'age'])"
            ]
          },
          "metadata": {
            "tags": []
          },
          "execution_count": 22
        }
      ]
    },
    {
      "cell_type": "code",
      "metadata": {
        "id": "KCwTs68RMhHD",
        "colab_type": "code",
        "colab": {
          "base_uri": "https://localhost:8080/",
          "height": 35
        },
        "outputId": "fa7ab164-5e38-4eac-a784-a7327720ed6f"
      },
      "source": [
        "len(dit)"
      ],
      "execution_count": 24,
      "outputs": [
        {
          "output_type": "execute_result",
          "data": {
            "text/plain": [
              "3"
            ]
          },
          "metadata": {
            "tags": []
          },
          "execution_count": 24
        }
      ]
    },
    {
      "cell_type": "code",
      "metadata": {
        "id": "pdXwbHx4MnPp",
        "colab_type": "code",
        "colab": {
          "base_uri": "https://localhost:8080/",
          "height": 35
        },
        "outputId": "2eaa1b67-6ac5-4639-a0b2-3770e248d44b"
      },
      "source": [
        "dit.items()"
      ],
      "execution_count": 25,
      "outputs": [
        {
          "output_type": "execute_result",
          "data": {
            "text/plain": [
              "dict_items([('Name', 'who knows'), (7, 36), ('age', 100)])"
            ]
          },
          "metadata": {
            "tags": []
          },
          "execution_count": 25
        }
      ]
    },
    {
      "cell_type": "markdown",
      "metadata": {
        "id": "1YipQoQrM23B",
        "colab_type": "text"
      },
      "source": [
        "Sets and default functions"
      ]
    },
    {
      "cell_type": "code",
      "metadata": {
        "id": "Rq85YjvAM_0v",
        "colab_type": "code",
        "colab": {
          "base_uri": "https://localhost:8080/",
          "height": 35
        },
        "outputId": "1d8d58ac-3870-425d-f560-d58566c1a57d"
      },
      "source": [
        "s= {1,9,57.87,\"ab\",\"BEN\"}\n",
        "print(s)"
      ],
      "execution_count": 36,
      "outputs": [
        {
          "output_type": "stream",
          "text": [
            "{1, 'BEN', 9, 'ab', 57.87}\n"
          ],
          "name": "stdout"
        }
      ]
    },
    {
      "cell_type": "code",
      "metadata": {
        "id": "vXWwmn3VPgY2",
        "colab_type": "code",
        "colab": {
          "base_uri": "https://localhost:8080/",
          "height": 35
        },
        "outputId": "def9770d-84dc-44c1-bb9f-614ad5479cbb"
      },
      "source": [
        "s.add(\"POKEMON\")\n",
        "s"
      ],
      "execution_count": 37,
      "outputs": [
        {
          "output_type": "execute_result",
          "data": {
            "text/plain": [
              "{1, 57.87, 9, 'BEN', 'POKEMON', 'ab'}"
            ]
          },
          "metadata": {
            "tags": []
          },
          "execution_count": 37
        }
      ]
    },
    {
      "cell_type": "code",
      "metadata": {
        "id": "RBl1t4lNPiy1",
        "colab_type": "code",
        "colab": {
          "base_uri": "https://localhost:8080/",
          "height": 35
        },
        "outputId": "9ae7281e-2e84-4f89-8295-9e5f0d56452f"
      },
      "source": [
        "s.pop()"
      ],
      "execution_count": 38,
      "outputs": [
        {
          "output_type": "execute_result",
          "data": {
            "text/plain": [
              "1"
            ]
          },
          "metadata": {
            "tags": []
          },
          "execution_count": 38
        }
      ]
    },
    {
      "cell_type": "code",
      "metadata": {
        "id": "aFw9VeJNPmzm",
        "colab_type": "code",
        "colab": {
          "base_uri": "https://localhost:8080/",
          "height": 52
        },
        "outputId": "c33ed538-440d-42b7-ac2f-9307e94ee9b8"
      },
      "source": [
        "print(s)\n",
        "s.remove(\"ab\")\n",
        "print(s)"
      ],
      "execution_count": 39,
      "outputs": [
        {
          "output_type": "stream",
          "text": [
            "{'POKEMON', 'BEN', 9, 'ab', 57.87}\n",
            "{'POKEMON', 'BEN', 9, 57.87}\n"
          ],
          "name": "stdout"
        }
      ]
    },
    {
      "cell_type": "code",
      "metadata": {
        "id": "rjunZuzbP15D",
        "colab_type": "code",
        "colab": {
          "base_uri": "https://localhost:8080/",
          "height": 35
        },
        "outputId": "8c187ca0-f632-4d1f-af79-341d5366f115"
      },
      "source": [
        "len(s)"
      ],
      "execution_count": 40,
      "outputs": [
        {
          "output_type": "execute_result",
          "data": {
            "text/plain": [
              "4"
            ]
          },
          "metadata": {
            "tags": []
          },
          "execution_count": 40
        }
      ]
    },
    {
      "cell_type": "code",
      "metadata": {
        "id": "yR_uX2IwQKEQ",
        "colab_type": "code",
        "colab": {
          "base_uri": "https://localhost:8080/",
          "height": 35
        },
        "outputId": "0e0731be-80ad-4169-8b02-c3223bc94f87"
      },
      "source": [
        "d = {100,\"DON\",\"BANG\"}\n",
        "s | d \n"
      ],
      "execution_count": 41,
      "outputs": [
        {
          "output_type": "execute_result",
          "data": {
            "text/plain": [
              "{100, 57.87, 9, 'BANG', 'BEN', 'DON', 'POKEMON'}"
            ]
          },
          "metadata": {
            "tags": []
          },
          "execution_count": 41
        }
      ]
    },
    {
      "cell_type": "markdown",
      "metadata": {
        "id": "ca9vuvspQuSh",
        "colab_type": "text"
      },
      "source": [
        "Tuple and default functions"
      ]
    },
    {
      "cell_type": "code",
      "metadata": {
        "id": "RcEMk2O1Qpvo",
        "colab_type": "code",
        "colab": {
          "base_uri": "https://localhost:8080/",
          "height": 35
        },
        "outputId": "2a040986-0618-41fb-cbc6-85c3184a6f60"
      },
      "source": [
        "t = (1,7,\"abc\",1991)\n",
        "c = (2,\"BAR\",476)\n",
        "t.count(7)"
      ],
      "execution_count": 46,
      "outputs": [
        {
          "output_type": "execute_result",
          "data": {
            "text/plain": [
              "1"
            ]
          },
          "metadata": {
            "tags": []
          },
          "execution_count": 46
        }
      ]
    },
    {
      "cell_type": "code",
      "metadata": {
        "id": "nw6UfwTSRyvQ",
        "colab_type": "code",
        "colab": {
          "base_uri": "https://localhost:8080/",
          "height": 35
        },
        "outputId": "8158a1e2-e592-4875-8d87-bd914afe376d"
      },
      "source": [
        "c.index(476)"
      ],
      "execution_count": 47,
      "outputs": [
        {
          "output_type": "execute_result",
          "data": {
            "text/plain": [
              "2"
            ]
          },
          "metadata": {
            "tags": []
          },
          "execution_count": 47
        }
      ]
    },
    {
      "cell_type": "code",
      "metadata": {
        "id": "-76PMyIQSNU1",
        "colab_type": "code",
        "colab": {
          "base_uri": "https://localhost:8080/",
          "height": 35
        },
        "outputId": "2a47dd38-ee84-4d63-e2d3-e4b062f88706"
      },
      "source": [
        "t = t+(\"SUN\",)\n",
        "print(t)"
      ],
      "execution_count": 50,
      "outputs": [
        {
          "output_type": "stream",
          "text": [
            "(1, 7, 'abc', 1991, 'SUN')\n"
          ],
          "name": "stdout"
        }
      ]
    },
    {
      "cell_type": "code",
      "metadata": {
        "id": "aHHi1bCiS3qO",
        "colab_type": "code",
        "colab": {
          "base_uri": "https://localhost:8080/",
          "height": 35
        },
        "outputId": "766d7ded-838a-422c-90fc-23edd5ecec2f"
      },
      "source": [
        "m= t + c\n",
        "print(m)"
      ],
      "execution_count": 52,
      "outputs": [
        {
          "output_type": "stream",
          "text": [
            "(1, 7, 'abc', 1991, 'SUN', 2, 'BAR', 476)\n"
          ],
          "name": "stdout"
        }
      ]
    },
    {
      "cell_type": "code",
      "metadata": {
        "id": "AQ5_ur2UTDgt",
        "colab_type": "code",
        "colab": {
          "base_uri": "https://localhost:8080/",
          "height": 35
        },
        "outputId": "926ec2ac-98a1-4d5b-aacc-322ac6821917"
      },
      "source": [
        "print(m[3:7])"
      ],
      "execution_count": 53,
      "outputs": [
        {
          "output_type": "stream",
          "text": [
            "(1991, 'SUN', 2, 'BAR')\n"
          ],
          "name": "stdout"
        }
      ]
    },
    {
      "cell_type": "markdown",
      "metadata": {
        "id": "JHyuETfFTSOs",
        "colab_type": "text"
      },
      "source": [
        "Strings and default functions"
      ]
    },
    {
      "cell_type": "code",
      "metadata": {
        "id": "4zXJi4o7Ta4H",
        "colab_type": "code",
        "colab": {
          "base_uri": "https://localhost:8080/",
          "height": 35
        },
        "outputId": "d191bcbf-a9ba-4a5e-90b8-e31df63c1906"
      },
      "source": [
        "strn = \"Universal Language\"\n",
        "strn"
      ],
      "execution_count": 54,
      "outputs": [
        {
          "output_type": "execute_result",
          "data": {
            "application/vnd.google.colaboratory.intrinsic+json": {
              "type": "string"
            },
            "text/plain": [
              "'Universal Language'"
            ]
          },
          "metadata": {
            "tags": []
          },
          "execution_count": 54
        }
      ]
    },
    {
      "cell_type": "code",
      "metadata": {
        "id": "vSYbKn4sUEu6",
        "colab_type": "code",
        "colab": {
          "base_uri": "https://localhost:8080/",
          "height": 35
        },
        "outputId": "9cb1c706-b9a9-4c9d-f738-5a74b9800708"
      },
      "source": [
        "print(strn[6])"
      ],
      "execution_count": 55,
      "outputs": [
        {
          "output_type": "stream",
          "text": [
            "s\n"
          ],
          "name": "stdout"
        }
      ]
    },
    {
      "cell_type": "code",
      "metadata": {
        "id": "nBPRPUGWUPNV",
        "colab_type": "code",
        "colab": {
          "base_uri": "https://localhost:8080/",
          "height": 35
        },
        "outputId": "91e137c2-6e3e-4229-915e-85666bd9bd56"
      },
      "source": [
        "print(strn[2:17])"
      ],
      "execution_count": 56,
      "outputs": [
        {
          "output_type": "stream",
          "text": [
            "iversal Languag\n"
          ],
          "name": "stdout"
        }
      ]
    },
    {
      "cell_type": "code",
      "metadata": {
        "id": "riONs0BWUYme",
        "colab_type": "code",
        "colab": {
          "base_uri": "https://localhost:8080/",
          "height": 35
        },
        "outputId": "5a3478e1-7e93-4da9-be34-6f0044b78e99"
      },
      "source": [
        "dt = \"ENGLISH is not \"\n",
        "print(dt+strn)"
      ],
      "execution_count": 58,
      "outputs": [
        {
          "output_type": "stream",
          "text": [
            "ENGLISH is not Universal Language\n"
          ],
          "name": "stdout"
        }
      ]
    },
    {
      "cell_type": "code",
      "metadata": {
        "id": "acRZj-bdU8MG",
        "colab_type": "code",
        "colab": {
          "base_uri": "https://localhost:8080/",
          "height": 35
        },
        "outputId": "80e64544-18f4-40ac-d662-da0afccd9431"
      },
      "source": [
        "print(\"sale\" not in strn)"
      ],
      "execution_count": 63,
      "outputs": [
        {
          "output_type": "stream",
          "text": [
            "True\n"
          ],
          "name": "stdout"
        }
      ]
    },
    {
      "cell_type": "code",
      "metadata": {
        "id": "nQUFoZf5VGX7",
        "colab_type": "code",
        "colab": {
          "base_uri": "https://localhost:8080/",
          "height": 35
        },
        "outputId": "aa41a6fa-3ba5-4b41-d554-d5d620692d3e"
      },
      "source": [
        "print(\"sal\" in strn)"
      ],
      "execution_count": 61,
      "outputs": [
        {
          "output_type": "stream",
          "text": [
            "True\n"
          ],
          "name": "stdout"
        }
      ]
    }
  ]
}