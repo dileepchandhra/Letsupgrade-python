{
  "nbformat": 4,
  "nbformat_minor": 0,
  "metadata": {
    "colab": {
      "name": "DAY 9 ASSIGNMENT.ipynb",
      "provenance": []
    },
    "kernelspec": {
      "name": "python3",
      "display_name": "Python 3"
    }
  },
  "cells": [
    {
      "cell_type": "markdown",
      "metadata": {
        "id": "g6hDhs0NFo6U",
        "colab_type": "text"
      },
      "source": [
        "ASSIGNMENT 1"
      ]
    },
    {
      "cell_type": "code",
      "metadata": {
        "id": "zjqwLlTTFy9n",
        "colab_type": "code",
        "colab": {
          "base_uri": "https://localhost:8080/",
          "height": 52
        },
        "outputId": "add04cee-1790-4cf4-865f-f5e4c17ab933"
      },
      "source": [
        "num = int (input(\"Enter the number you want to check :\"))\n",
        "def isprime():\n",
        "  if num > 1 :\n",
        "    for i in range(2,num):\n",
        "      if (num%i)==0 :\n",
        "        print(num ,\"is not a prime\")\n",
        "      else :\n",
        "        print(num , \"is a prime\")\n",
        "        break\n",
        "\n",
        "  else :\n",
        "    print(num ,\"is not a prime\")\n",
        "\n",
        "isprime()"
      ],
      "execution_count": 3,
      "outputs": [
        {
          "output_type": "stream",
          "text": [
            "Enter the number you want to check5\n",
            "5 is a prime\n"
          ],
          "name": "stdout"
        }
      ]
    },
    {
      "cell_type": "code",
      "metadata": {
        "id": "xVbcJ2h_Ilm2",
        "colab_type": "code",
        "colab": {
          "base_uri": "https://localhost:8080/",
          "height": 419
        },
        "outputId": "a87e6213-e3a8-44e0-8347-698362f713cb"
      },
      "source": [
        "! pip install pylint"
      ],
      "execution_count": 4,
      "outputs": [
        {
          "output_type": "stream",
          "text": [
            "Collecting pylint\n",
            "\u001b[?25l  Downloading https://files.pythonhosted.org/packages/fb/13/519c1264a134beab2be4bac8dd3e64948980a5ca7833b31cf0255b21f20a/pylint-2.6.0-py3-none-any.whl (325kB)\n",
            "\u001b[K     |████████████████████████████████| 327kB 3.4MB/s \n",
            "\u001b[?25hCollecting astroid<=2.5,>=2.4.0\n",
            "\u001b[?25l  Downloading https://files.pythonhosted.org/packages/24/a8/5133f51967fb21e46ee50831c3f5dda49e976b7f915408d670b1603d41d6/astroid-2.4.2-py3-none-any.whl (213kB)\n",
            "\u001b[K     |████████████████████████████████| 215kB 11.0MB/s \n",
            "\u001b[?25hCollecting mccabe<0.7,>=0.6\n",
            "  Downloading https://files.pythonhosted.org/packages/87/89/479dc97e18549e21354893e4ee4ef36db1d237534982482c3681ee6e7b57/mccabe-0.6.1-py2.py3-none-any.whl\n",
            "Requirement already satisfied: toml>=0.7.1 in /usr/local/lib/python3.6/dist-packages (from pylint) (0.10.1)\n",
            "Collecting isort<6,>=4.2.5\n",
            "\u001b[?25l  Downloading https://files.pythonhosted.org/packages/d1/25/7ed95ccb07d3ce52598f5a57d002da6a18074ea8749991b10936cc20e539/isort-5.5.2-py3-none-any.whl (95kB)\n",
            "\u001b[K     |████████████████████████████████| 102kB 7.8MB/s \n",
            "\u001b[?25hCollecting typed-ast<1.5,>=1.4.0; implementation_name == \"cpython\" and python_version < \"3.8\"\n",
            "\u001b[?25l  Downloading https://files.pythonhosted.org/packages/90/ed/5459080d95eb87a02fe860d447197be63b6e2b5e9ff73c2b0a85622994f4/typed_ast-1.4.1-cp36-cp36m-manylinux1_x86_64.whl (737kB)\n",
            "\u001b[K     |████████████████████████████████| 747kB 13.9MB/s \n",
            "\u001b[?25hCollecting lazy-object-proxy==1.4.*\n",
            "\u001b[?25l  Downloading https://files.pythonhosted.org/packages/0b/dd/b1e3407e9e6913cf178e506cd0dee818e58694d9a5cd1984e3f6a8b9a10f/lazy_object_proxy-1.4.3-cp36-cp36m-manylinux1_x86_64.whl (55kB)\n",
            "\u001b[K     |████████████████████████████████| 61kB 6.8MB/s \n",
            "\u001b[?25hRequirement already satisfied: six~=1.12 in /usr/local/lib/python3.6/dist-packages (from astroid<=2.5,>=2.4.0->pylint) (1.15.0)\n",
            "Requirement already satisfied: wrapt~=1.11 in /usr/local/lib/python3.6/dist-packages (from astroid<=2.5,>=2.4.0->pylint) (1.12.1)\n",
            "Installing collected packages: typed-ast, lazy-object-proxy, astroid, mccabe, isort, pylint\n",
            "Successfully installed astroid-2.4.2 isort-5.5.2 lazy-object-proxy-1.4.3 mccabe-0.6.1 pylint-2.6.0 typed-ast-1.4.1\n"
          ],
          "name": "stdout"
        }
      ]
    },
    {
      "cell_type": "code",
      "metadata": {
        "id": "nThWoNDmJiL4",
        "colab_type": "code",
        "colab": {
          "base_uri": "https://localhost:8080/",
          "height": 193
        },
        "outputId": "6b1803da-f9a0-4282-8f6b-3ce54ecc3606"
      },
      "source": [
        "! pip install pylint"
      ],
      "execution_count": 8,
      "outputs": [
        {
          "output_type": "stream",
          "text": [
            "Requirement already satisfied: pylint in /usr/local/lib/python3.6/dist-packages (2.6.0)\n",
            "Requirement already satisfied: isort<6,>=4.2.5 in /usr/local/lib/python3.6/dist-packages (from pylint) (5.5.2)\n",
            "Requirement already satisfied: mccabe<0.7,>=0.6 in /usr/local/lib/python3.6/dist-packages (from pylint) (0.6.1)\n",
            "Requirement already satisfied: astroid<=2.5,>=2.4.0 in /usr/local/lib/python3.6/dist-packages (from pylint) (2.4.2)\n",
            "Requirement already satisfied: toml>=0.7.1 in /usr/local/lib/python3.6/dist-packages (from pylint) (0.10.1)\n",
            "Requirement already satisfied: typed-ast<1.5,>=1.4.0; implementation_name == \"cpython\" and python_version < \"3.8\" in /usr/local/lib/python3.6/dist-packages (from astroid<=2.5,>=2.4.0->pylint) (1.4.1)\n",
            "Requirement already satisfied: six~=1.12 in /usr/local/lib/python3.6/dist-packages (from astroid<=2.5,>=2.4.0->pylint) (1.15.0)\n",
            "Requirement already satisfied: wrapt~=1.11 in /usr/local/lib/python3.6/dist-packages (from astroid<=2.5,>=2.4.0->pylint) (1.12.1)\n",
            "Requirement already satisfied: lazy-object-proxy==1.4.* in /usr/local/lib/python3.6/dist-packages (from astroid<=2.5,>=2.4.0->pylint) (1.4.3)\n"
          ],
          "name": "stdout"
        }
      ]
    },
    {
      "cell_type": "code",
      "metadata": {
        "id": "_3uWec0JI7Db",
        "colab_type": "code",
        "colab": {
          "base_uri": "https://localhost:8080/",
          "height": 35
        },
        "outputId": "63d6a2fd-3d15-42cd-8741-e9bc17927015"
      },
      "source": [
        "%%writefile dileep.py\n",
        "'''\n",
        "Its a code for checking prime\n",
        "'''\n",
        "num = int (input(\"Enter the number you want to check :\"))\n",
        "'''\n",
        "Defining prime number\n",
        "'''\n",
        "def isprime():\n",
        "    '''\n",
        "    Defining prime number\n",
        "    '''\n",
        "    if num > 1 :\n",
        "        for i in range(2,num):\n",
        "            if (num%i)==0 :\n",
        "                print(num ,\"is not a prime\")\n",
        "            else :\n",
        "                print(num , \"is a prime\")\n",
        "                break\n",
        "\n",
        "    else :\n",
        "        print(num ,\"is not a prime\")\n",
        "\n",
        "isprime()\n",
        " "
      ],
      "execution_count": 57,
      "outputs": [
        {
          "output_type": "stream",
          "text": [
            "Overwriting dileep.py\n"
          ],
          "name": "stdout"
        }
      ]
    },
    {
      "cell_type": "code",
      "metadata": {
        "id": "ofpWfvn_I8ju",
        "colab_type": "code",
        "colab": {
          "base_uri": "https://localhost:8080/",
          "height": 87
        },
        "outputId": "634f034c-e748-4d6a-fb9e-efedd5618d10"
      },
      "source": [
        "! pylint \"dileep.py\""
      ],
      "execution_count": 59,
      "outputs": [
        {
          "output_type": "stream",
          "text": [
            "\n",
            "--------------------------------------------------------------------\n",
            "Your code has been rated at 10.00/10 (previous run: 10.00/10, +0.00)\n",
            "\n"
          ],
          "name": "stdout"
        }
      ]
    },
    {
      "cell_type": "code",
      "metadata": {
        "id": "E73YrBdpUs0s",
        "colab_type": "code",
        "colab": {
          "base_uri": "https://localhost:8080/",
          "height": 35
        },
        "outputId": "044688af-b0e2-4002-b7c9-2161f4ccf31c"
      },
      "source": [
        "%%writefile primenum.py\n",
        "\n",
        "def is_prime(num) :\n",
        "  if num < 0 :\n",
        "    return False\n",
        "\n",
        "  for i in range (2 ,num):\n",
        "    if num%i==0:\n",
        "      return False\n",
        "    else:\n",
        "      return True"
      ],
      "execution_count": 81,
      "outputs": [
        {
          "output_type": "stream",
          "text": [
            "Overwriting primenum.py\n"
          ],
          "name": "stdout"
        }
      ]
    },
    {
      "cell_type": "code",
      "metadata": {
        "id": "GunGG8-mOl47",
        "colab_type": "code",
        "colab": {
          "base_uri": "https://localhost:8080/",
          "height": 35
        },
        "outputId": "1f3372bd-9d27-4b8d-8dbb-ccf29683bb84"
      },
      "source": [
        "%%writefile testisprime.py\n",
        "\n",
        "import unittest\n",
        "import primenum\n",
        "\n",
        "class PrimeTestCase(unittest.TestCase):\n",
        "  def test_is_five_prime(self):\n",
        "    self.assertTrue(is_prime(5))\n",
        "\n",
        "if __name__==\"__main__\":\n",
        "   unittest.main()"
      ],
      "execution_count": 86,
      "outputs": [
        {
          "output_type": "stream",
          "text": [
            "Overwriting testisprime.py\n"
          ],
          "name": "stdout"
        }
      ]
    },
    {
      "cell_type": "code",
      "metadata": {
        "id": "le7Vux-2Yo7W",
        "colab_type": "code",
        "colab": {
          "base_uri": "https://localhost:8080/",
          "height": 243
        },
        "outputId": "4a8421d7-1aef-44e0-ed56-eee973eb168a"
      },
      "source": [
        "! python testisprime.py"
      ],
      "execution_count": 87,
      "outputs": [
        {
          "output_type": "stream",
          "text": [
            "E\n",
            "======================================================================\n",
            "ERROR: test_is_five_prime (__main__.PrimeTestCase)\n",
            "----------------------------------------------------------------------\n",
            "Traceback (most recent call last):\n",
            "  File \"testisprime.py\", line 7, in test_is_five_prime\n",
            "    self.assertTrue(is_prime(5))\n",
            "NameError: name 'is_prime' is not defined\n",
            "\n",
            "----------------------------------------------------------------------\n",
            "Ran 1 test in 0.000s\n",
            "\n",
            "FAILED (errors=1)\n"
          ],
          "name": "stdout"
        }
      ]
    },
    {
      "cell_type": "markdown",
      "metadata": {
        "id": "H44TS7Kibizs",
        "colab_type": "text"
      },
      "source": [
        "ASSIGNMENT 2"
      ]
    },
    {
      "cell_type": "code",
      "metadata": {
        "id": "LnAtaPrIhKAQ",
        "colab_type": "code",
        "colab": {
          "base_uri": "https://localhost:8080/",
          "height": 277
        },
        "outputId": "49eaf451-6257-4bc5-b185-573012b5f509"
      },
      "source": [
        "def armstrong():\n",
        "  l= int(input(\"Enter the lower limit :\"))\n",
        "  u= int(input(\"Enter the upper limit :\"))\n",
        "  for num in range(l,u+1):\n",
        "    sum=0\n",
        "    order=len(str(num))\n",
        "    temp=num;\n",
        "    while temp!=0:\n",
        "      dig = temp % 10;\n",
        "      sum += dig ** order;\n",
        "      temp//=10;\n",
        "\n",
        "    if num==sum:\n",
        "      yield num;\n",
        "\n",
        "for i in armstrong():\n",
        "  print(i)"
      ],
      "execution_count": 105,
      "outputs": [
        {
          "output_type": "stream",
          "text": [
            "Enter the lower limit :1\n",
            "Enter the upper limit :1000\n",
            "1\n",
            "2\n",
            "3\n",
            "4\n",
            "5\n",
            "6\n",
            "7\n",
            "8\n",
            "9\n",
            "153\n",
            "370\n",
            "371\n",
            "407\n"
          ],
          "name": "stdout"
        }
      ]
    }
  ]
}