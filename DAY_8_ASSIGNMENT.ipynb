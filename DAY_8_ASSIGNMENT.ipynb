{
  "nbformat": 4,
  "nbformat_minor": 0,
  "metadata": {
    "colab": {
      "name": "DAY 8 ASSIGNMENT.ipynb",
      "provenance": []
    },
    "kernelspec": {
      "name": "python3",
      "display_name": "Python 3"
    }
  },
  "cells": [
    {
      "cell_type": "markdown",
      "metadata": {
        "id": "scp8cJF-uUIv",
        "colab_type": "text"
      },
      "source": [
        "ASSIGNMENT 1"
      ]
    },
    {
      "cell_type": "code",
      "metadata": {
        "id": "uTd923fICZlm",
        "colab_type": "code",
        "colab": {}
      },
      "source": [
        "def getInput(calculate_arg_fun):\n",
        "  def wrap_function():\n",
        "    print(\"Hello! Enter input range\")\n",
        "    n = int(input(\"Enter the Range\"))\n",
        "    calculate_arg_fun(a)\n",
        "    return wrap_function"
      ],
      "execution_count": 54,
      "outputs": []
    },
    {
      "cell_type": "code",
      "metadata": {
        "id": "FtL3xK5FCfrx",
        "colab_type": "code",
        "colab": {}
      },
      "source": [
        "@getInput\n",
        "def fibonacci(a):\n",
        " f=0                                         \n",
        " s=1                                         \n",
        " if a<=0:\n",
        "    print(\"The requested series is\",f)\n",
        " else:\n",
        "    print(f)\n",
        "    while s<=a :\n",
        "        print(s)\n",
        "        f,s=s,f+s"
      ],
      "execution_count": 55,
      "outputs": []
    },
    {
      "cell_type": "code",
      "metadata": {
        "id": "lZFKeSRGCkC6",
        "colab_type": "code",
        "colab": {
          "base_uri": "https://localhost:8080/",
          "height": 166
        },
        "outputId": "b9c811d1-ab3d-42a2-cc70-5f4c975c18a6"
      },
      "source": [
        "fibonacci(9)"
      ],
      "execution_count": 57,
      "outputs": [
        {
          "output_type": "error",
          "ename": "TypeError",
          "evalue": "ignored",
          "traceback": [
            "\u001b[0;31m---------------------------------------------------------------------------\u001b[0m",
            "\u001b[0;31mTypeError\u001b[0m                                 Traceback (most recent call last)",
            "\u001b[0;32m<ipython-input-57-6670443a25fc>\u001b[0m in \u001b[0;36m<module>\u001b[0;34m()\u001b[0m\n\u001b[0;32m----> 1\u001b[0;31m \u001b[0mfibonacci\u001b[0m\u001b[0;34m(\u001b[0m\u001b[0;36m9\u001b[0m\u001b[0;34m)\u001b[0m\u001b[0;34m\u001b[0m\u001b[0;34m\u001b[0m\u001b[0m\n\u001b[0m",
            "\u001b[0;31mTypeError\u001b[0m: 'NoneType' object is not callable"
          ]
        }
      ]
    },
    {
      "cell_type": "markdown",
      "metadata": {
        "id": "8TgurSPkCwZQ",
        "colab_type": "text"
      },
      "source": [
        "ASSIGNMENT 2"
      ]
    },
    {
      "cell_type": "code",
      "metadata": {
        "id": "kNYH7RF4DAfD",
        "colab_type": "code",
        "colab": {}
      },
      "source": [
        "file = open(\"Letsdoit.txt\",\"w\")\n",
        "file.write(\"Hello Everyone\")\n",
        "file.close()"
      ],
      "execution_count": 52,
      "outputs": []
    },
    {
      "cell_type": "code",
      "metadata": {
        "id": "gTPv3qXuEZ_A",
        "colab_type": "code",
        "colab": {
          "base_uri": "https://localhost:8080/",
          "height": 35
        },
        "outputId": "cdb08c8e-084a-46ac-d5f9-9ab8382eb245"
      },
      "source": [
        "try:\n",
        "  file = open(\"Letsdoit.txt\",\"r\")\n",
        "  file.write(\"Do not go out\")\n",
        "  file.close()\n",
        "\n",
        "except:\n",
        "  print(\"You opened file in READ MODE only\")"
      ],
      "execution_count": 53,
      "outputs": [
        {
          "output_type": "stream",
          "text": [
            "You opened file in READ MODE only\n"
          ],
          "name": "stdout"
        }
      ]
    }
  ]
}