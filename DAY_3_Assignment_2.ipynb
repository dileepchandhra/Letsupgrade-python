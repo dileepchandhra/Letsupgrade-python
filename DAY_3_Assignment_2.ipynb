{
  "nbformat": 4,
  "nbformat_minor": 0,
  "metadata": {
    "colab": {
      "name": "DAY 3 Assignment 2.ipynb",
      "provenance": []
    },
    "kernelspec": {
      "name": "python3",
      "display_name": "Python 3"
    }
  },
  "cells": [
    {
      "cell_type": "code",
      "metadata": {
        "id": "OEY-KVDM0oeZ",
        "colab_type": "code",
        "colab": {
          "base_uri": "https://localhost:8080/",
          "height": 55
        },
        "outputId": "ead805f5-6335-46a5-bf22-81d4418c1862"
      },
      "source": [
        "for Number in range (1, 201):\n",
        "    count = 0\n",
        "    for i in range(2, (Number//2 + 1)):\n",
        "        if(Number % i == 0):\n",
        "            count = count + 1\n",
        "            break\n",
        "\n",
        "    if (count == 0 and Number != 1):\n",
        "        print(\" %d\" %Number, end = ' , ')"
      ],
      "execution_count": 4,
      "outputs": [
        {
          "output_type": "stream",
          "text": [
            " 2 ,  3 ,  5 ,  7 ,  11 ,  13 ,  17 ,  19 ,  23 ,  29 ,  31 ,  37 ,  41 ,  43 ,  47 ,  53 ,  59 ,  61 ,  67 ,  71 ,  73 ,  79 ,  83 ,  89 ,  97 ,  101 ,  103 ,  107 ,  109 ,  113 ,  127 ,  131 ,  137 ,  139 ,  149 ,  151 ,  157 ,  163 ,  167 ,  173 ,  179 ,  181 ,  191 ,  193 ,  197 ,  199 , "
          ],
          "name": "stdout"
        }
      ]
    }
  ]
}