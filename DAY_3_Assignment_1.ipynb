{
  "nbformat": 4,
  "nbformat_minor": 0,
  "metadata": {
    "colab": {
      "name": "DAY 3 Assignment 1.ipynb",
      "provenance": []
    },
    "kernelspec": {
      "name": "python3",
      "display_name": "Python 3"
    }
  },
  "cells": [
    {
      "cell_type": "code",
      "metadata": {
        "id": "JkPUqW2jwMcQ",
        "colab_type": "code",
        "colab": {
          "base_uri": "https://localhost:8080/",
          "height": 52
        },
        "outputId": "a538832a-ee4e-4605-e3cd-80e0535a1de6"
      },
      "source": [
        "ht=input(\"Enter the altitude in feet - \")\n",
        "ht=int(ht)\n",
        "if ht<=1000:\n",
        "  print(\"Safe to land\")\n",
        "elif ht<=5000:\n",
        "  print(\"Bring down to 1000\")\n",
        "else :\n",
        "  print(\"Turn around and attempt later\")"
      ],
      "execution_count": 3,
      "outputs": [
        {
          "output_type": "stream",
          "text": [
            "Enter the altitude in feet - 4500\n",
            "Bring down to 1000\n"
          ],
          "name": "stdout"
        }
      ]
    }
  ]
}