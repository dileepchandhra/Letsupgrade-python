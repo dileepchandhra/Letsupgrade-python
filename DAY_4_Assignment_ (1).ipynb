{
  "nbformat": 4,
  "nbformat_minor": 0,
  "metadata": {
    "colab": {
      "name": "DAY 4 Assignment .ipynb",
      "provenance": []
    },
    "kernelspec": {
      "name": "python3",
      "display_name": "Python 3"
    }
  },
  "cells": [
    {
      "cell_type": "markdown",
      "metadata": {
        "id": "7nwBx0hEF5Q5",
        "colab_type": "text"
      },
      "source": [
        " Exiting loop after encountering first armstrong number"
      ]
    },
    {
      "cell_type": "code",
      "metadata": {
        "id": "_YkND_DEGJVA",
        "colab_type": "code",
        "colab": {
          "base_uri": "https://localhost:8080/",
          "height": 35
        },
        "outputId": "9335d9eb-ed57-4d58-a2b4-11e53e14ad4e"
      },
      "source": [
        "for num in range(1042000,702648265) :\n",
        "\n",
        "   # Finding order of number\n",
        "   p = len(str(num))\n",
        "\n",
        "   # Intialising sum\n",
        "   s = 0\n",
        "   c = 0\n",
        "\n",
        "   temp = num\n",
        "   while temp > 0 :\n",
        "     dig = temp % 10\n",
        "     s += dig ** p\n",
        "     temp //= 10\n",
        "\n",
        "   if num == s:\n",
        "     c = c+1\n",
        "     print(\"The first Armstrong Number is \",num)\n",
        "     \n",
        "\n",
        "     if c == 1 :\n",
        "       break  "
      ],
      "execution_count": 11,
      "outputs": [
        {
          "output_type": "stream",
          "text": [
            "The first Armstrong Number is  1741725\n"
          ],
          "name": "stdout"
        }
      ]
    }
  ]
}