{
  "nbformat": 4,
  "nbformat_minor": 0,
  "metadata": {
    "colab": {
      "name": "DAY 6 ASSIGNMENT.ipynb",
      "provenance": []
    },
    "kernelspec": {
      "name": "python3",
      "display_name": "Python 3"
    }
  },
  "cells": [
    {
      "cell_type": "markdown",
      "metadata": {
        "id": "W_80D4oZgb4e",
        "colab_type": "text"
      },
      "source": [
        "ASSIGNMENT 1"
      ]
    },
    {
      "cell_type": "code",
      "metadata": {
        "id": "4vHIGQR1gfs2",
        "colab_type": "code",
        "colab": {
          "base_uri": "https://localhost:8080/",
          "height": 173
        },
        "outputId": "3c036e13-c9e6-48f1-ad13-82f9c61c1f57"
      },
      "source": [
        "class Bank_Account(): \n",
        "    def __init__(self): \n",
        "        self.balance=0\n",
        "        print(\"Hello!!! Welcome to the Deposit & Withdrawal Machine\") \n",
        "    def deposit(self): \n",
        "        amount=float(input(\"Enter amount to be Deposited: \")) \n",
        "        self.balance += amount \n",
        "        print(\"\\n Amount Deposited:\",amount) \n",
        "    def withdraw(self): \n",
        "        amount = float(input(\"Enter amount to be Withdrawn: \")) \n",
        "        if self.balance>=amount: \n",
        "            self.balance-=amount \n",
        "            print(\"\\n You Withdrew:\", amount) \n",
        "        else: \n",
        "            print(\"\\n Insufficient balance  \") \n",
        "    def display(self): \n",
        "        print(\"\\n Net Available Balance=\",self.balance)\n",
        "\n",
        "s = Bank_Account()\n",
        "s.deposit()\n",
        "s.withdraw()\n",
        "s.display()"
      ],
      "execution_count": 1,
      "outputs": [
        {
          "output_type": "stream",
          "text": [
            "Hello!!! Welcome to the Deposit & Withdrawal Machine\n",
            "Enter amount to be Deposited: 5000\n",
            "\n",
            " Amount Deposited: 5000.0\n",
            "Enter amount to be Withdrawn: 7000\n",
            "\n",
            " Insufficient balance  \n",
            "\n",
            " Net Available Balance= 5000.0\n"
          ],
          "name": "stdout"
        }
      ]
    },
    {
      "cell_type": "markdown",
      "metadata": {
        "id": "04k7UdV2gsc3",
        "colab_type": "text"
      },
      "source": [
        "ASSIGNMENT 2"
      ]
    },
    {
      "cell_type": "code",
      "metadata": {
        "id": "YmLU-qVggu7r",
        "colab_type": "code",
        "colab": {
          "base_uri": "https://localhost:8080/",
          "height": 87
        },
        "outputId": "c2d8b7e8-8c08-4b70-94bf-705a91ffd0ad"
      },
      "source": [
        "import math\n",
        "class cone():\n",
        " def __init__(self,radius,height):\n",
        "      self.radius = radius\n",
        "      self.height = height\n",
        "\n",
        " def volume(self,radius,height):\n",
        "     return math.pi * radius * radius * (height/3) \n",
        "\n",
        " def SurfaceArea(self,radius,height):\n",
        "      return math.pi * radius * radius + math.pi * radius * math.sqrt(radius*radius + height*height)\n",
        "\n",
        "\n",
        "r=int(input(\"Enter the RADIUS : \"))\n",
        "h=int(input(\"Enter the HEIGHT : \"))\n",
        "obj=cone(r,h)\n",
        "print(\"Volume of cone = \",obj.volume(r,h)) \n",
        "print(\"Surface area of cone = \",obj.SurfaceArea(r,h))"
      ],
      "execution_count": 2,
      "outputs": [
        {
          "output_type": "stream",
          "text": [
            "Enter the RADIUS : 5\n",
            "Enter the HEIGHT : 6\n",
            "Volume of cone =  157.07963267948966\n",
            "Surface area of cone =  201.22293136239688\n"
          ],
          "name": "stdout"
        }
      ]
    }
  ]
}